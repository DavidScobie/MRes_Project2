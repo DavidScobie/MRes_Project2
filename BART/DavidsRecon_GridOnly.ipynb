{
 "cells": [
  {
   "cell_type": "code",
   "execution_count": 41,
   "source": [
    "import os\n",
    "import sys\n",
    "import numpy as np\n",
    "import mapvbvd\n",
    "from bart import bart\n",
    "from matplotlib import pyplot as plt\n",
    "import cfl\n",
    "import PlotUtils"
   ],
   "outputs": [],
   "metadata": {}
  },
  {
   "cell_type": "code",
   "execution_count": 42,
   "source": [
    "\"\"\"\n",
    "Load Data \n",
    "\"\"\"\n",
    "fullfile='/media/sf_ML_work/BART/rawData_exercise/meas_MID00573_FID48984_rest_stack.dat'\n",
    "\n",
    "twixObj = mapvbvd.mapVBVD(fullfile)\n",
    "sizeObj = len(twixObj)\n",
    "twixObj[sizeObj-1].image.flagRemoveOS = False\n",
    "\n",
    "data_hdr = twixObj[sizeObj-1].hdr\n",
    "\n",
    "noSlices = int(data_hdr.Config.NSlc)\n",
    "matrix = int(data_hdr.Config.ImageColumns)\n",
    "nPhases = int(data_hdr.Config.NPhs)\n",
    "accSpokes = int(data_hdr.Config.RadialViews)\n",
    "\n",
    "del data_hdr\n",
    "print(noSlices)\n",
    "\"12\"\n",
    "print(matrix) \n",
    "\"192\"\n",
    "print(nPhases) \n",
    "\"40\"\n",
    "print(accSpokes) \n",
    "\"13\"\n",
    "\n",
    "\"--------------------------------------\"\n",
    "\"  data_hdr = twixObj[sizeObj-1].hdr \"\n",
    "\"current size 384 26 13 1 12 1 40\"\n",
    "\n",
    "raw_data = np.squeeze(twixObj[sizeObj-1].image[:,:,:,:,:,:,:,:,:,:])\n",
    "print(\"raw_data size = \", raw_data.shape)\n",
    "\" (384, 26, 13, 12, 40) \"\n",
    "\n",
    "\"----------------------------------------------\"\n",
    "\n",
    "if noSlices == 1 :\n",
    "    raw_data = np.permute(raw_data, [0, 1, 2, 4, 3])\n",
    "\n",
    "nCoils = len(raw_data[1])\n",
    "print(\" nCoils = \", nCoils)\n",
    "\n",
    "\"\"\"\n",
    "% raw_data is currently stored in the format of:\n",
    "%    matrix*2 (due to 2x OverSampling in readout directiom);\n",
    "%    nCoils\n",
    "%    accSpokes\n",
    "%    noSlices\n",
    "%    nPhases\n",
    "\n",
    "% so in this case [384, 26, 13, 12, 40]\n",
    "\n",
    "% reorder here just so that i can do gridding per 2D slice on each coil\n",
    "% seperately\n",
    "%data_image is now to be stored in the format of:\n",
    "%    matrix*2 (due to 2x OverSampling in readout directiom);\n",
    "%    accSpokes\n",
    "%    nPhases\n",
    "%    nCoils\n",
    "%    noSlices\n",
    "\n",
    "% so in this case [384, 13, 40, 26, 12]\n",
    "\"\"\"\n",
    "raw_data = np.transpose(raw_data, [0, 2, 4, 1, 3])\n",
    "print(\"raw_data = \", raw_data.shape)"
   ],
   "outputs": [
    {
     "output_type": "stream",
     "name": "stdout",
     "text": [
      "pymapVBVD version 0.4.2\n",
      "Software version: VD\n"
     ]
    },
    {
     "output_type": "stream",
     "name": "stderr",
     "text": [
      "Scan 3/3, read all mdhs: 570MB [00:01, 261MB/s]"
     ]
    },
    {
     "output_type": "stream",
     "name": "stdout",
     "text": [
      "12\n",
      "192\n",
      "40\n",
      "13\n"
     ]
    },
    {
     "output_type": "stream",
     "name": "stderr",
     "text": []
    },
    {
     "output_type": "stream",
     "name": "stdout",
     "text": [
      "raw_data size =  (384, 26, 13, 12, 40)\n",
      " nCoils =  26\n",
      "raw_data =  (384, 13, 40, 26, 12)\n"
     ]
    }
   ],
   "metadata": {}
  },
  {
   "cell_type": "code",
   "execution_count": 43,
   "source": [
    "\"now calculate the trajectory - get the radial angles from the raw data file\"\n",
    "\"------------------------------------------------------\"\n",
    "\n",
    "uint16Angle0 = np.uint16(twixObj[sizeObj-1].image.iceParam[:,4])  #why are there 4 angles?\n",
    "uint16Angle1 = np.uint16(twixObj[sizeObj-1].image.iceParam[:,5])\n",
    "uint16Angle2 = np.uint16(twixObj[sizeObj-1].image.iceParam[:,6]) \n",
    "uint16Angle3 = np.uint16(twixObj[sizeObj-1].image.iceParam[:,7]) \n",
    "\n",
    "del twixObj\n",
    "del sizeObj\n",
    "\n",
    "tt1=np.stack((uint16Angle0, uint16Angle1, uint16Angle2, uint16Angle3)) #the 4 angles get stacked together\n",
    "print(\"\\n len(uint16Angle0) = \", len(uint16Angle0), \" tt1= \", tt1.shape)\n",
    "\n",
    "del uint16Angle0\n",
    "del uint16Angle1\n",
    "del uint16Angle2\n",
    "del uint16Angle3\n",
    "\n",
    "radialAngles = []\n",
    "for i in range(accSpokes*nPhases) : #range 520\n",
    "    tt4 = np.array(tt1[:, i], dtype=np.uint16)\n",
    "    radialAngles.append(tt4.view(np.double)) #radial angles is what we make from the angles of the .dat file\n",
    "\n",
    "del tt1\n",
    "del tt4\n",
    "del i #the temporary ones get deleted\n",
    "\"\"\" \n",
    "  print(\"ii = \", i, \" , \", tt4, \" , \", combinedAngle[i]) \n",
    "\"\"\"\n",
    "\n",
    "import math\n",
    "\" now create trajectory as used in the sequence, to match the above data \"\n",
    "    \n",
    "npoints = accSpokes * (matrix*2) * nPhases; # (13x192x2x40) = 199680, why do we multiply this by 13?\n",
    "dimensions  = 3\n",
    "\n",
    "trajectory = np.zeros((dimensions, matrix*2, accSpokes, nPhases)) #(3,384,13,40) this is number of points\n",
    "\" weights    = np.zeros((matrix*2, accSpokes, nPhases))\"\n",
    "\n",
    "for phs in range(nPhases) : #40\n",
    "    for lin in range(accSpokes) : #13 \n",
    "        ang = radialAngles[phs*accSpokes + lin] #(0:39 x 13) + (0:12), goes up to 519\n",
    "\n",
    "        cos_angle = math.cos(ang)\n",
    "        sin_angle = math.sin(ang)\n",
    "             \n",
    "        for col in range(matrix*2) : #384\n",
    "            kx = (col - matrix) /2  #(0:383 - 192) /2 because of the 2x oversampling\n",
    "                \n",
    "            trajectory[0, col, lin, phs]=(cos_angle*kx) #fill kx up with angles. (-192:192) \n",
    "            trajectory[1, col, lin, phs]=(sin_angle*kx) #(-192:192) \n",
    "            trajectory[2, col, lin, phs]=0.0 #kz = 0\n",
    "            \"\"\"            \n",
    "            if kx == 0.0 :\n",
    "                weights[col, lin, phs]= 0.25 \n",
    "            else :\n",
    "                weights[col, lin, phs]=  abs(kx) \n",
    "            \"\"\"\n",
    "del sin_angle\n",
    "del cos_angle\n",
    "del col \n",
    "del phs\n",
    "del lin  \n",
    "del kx       "
   ],
   "outputs": [
    {
     "output_type": "stream",
     "name": "stderr",
     "text": []
    },
    {
     "output_type": "stream",
     "name": "stdout",
     "text": [
      "\n",
      " len(uint16Angle0) =  6240  tt1=  (4, 6240)\n"
     ]
    }
   ],
   "metadata": {
    "tags": []
   }
  },
  {
   "cell_type": "code",
   "execution_count": 44,
   "source": [
    "GRIDresult = np.zeros((matrix, matrix, nPhases, noSlices)) # (192,192,40,12)\n",
    "\n",
    "noSlices = 1\n",
    "for sl in range(noSlices) : #range 12\n",
    "    sliceData = raw_data[:,:,:,:,sl] #[384, 13, 40, 26, 1] , why do we have the 13 in here? \n",
    "\n",
    "    print(\"sliceData \", sliceData.shape)\n",
    "    dataCoilSensitivities = np.zeros((matrix*2, accSpokes*nPhases, 1, nCoils), dtype=complex) #(384,520,1,26) each of the k space points has its own sensitivity!\n",
    "    trajScale = np.zeros((dimensions, matrix*2, accSpokes*nPhases)) #(3,384,520)\n",
    "\n",
    "    \" calculate coil sensitivities \"\n",
    "    \" this stacks up the data over all time points, as we do a temporal average to get a fully sampled equivalent image to calculate the CS from\"\n",
    "    for ph in range(nPhases) : #40\n",
    "        dataCoilSensitivities[:,ph*accSpokes:(ph+1)*accSpokes, 0, :] = np.squeeze(sliceData[:,:,ph,:]) #remove the [...,1] dimension from the end of sliceData. we are just reshaping here effectively\n",
    "        trajScale[:,:,ph*accSpokes:(ph+1)*accSpokes] = trajectory[:,:,:, ph] #saving the trajectory of each slice as 3D matrix instead of 4D\n",
    "\n",
    "    dataCS_3124 = np.transpose(dataCoilSensitivities, [2, 0, 1, 3]) #permute and save raw data as another variable before deletion\n",
    "    del dataCoilSensitivities\n",
    "    del ph\n",
    "\n",
    "    \"grid the data\"\n",
    "    \"David: you need to chnage the following line to your gridder!!!!\"\n",
    "    print('trajScale',np.shape(trajScale),'dataCS_3124',np.shape(dataCS_3124))\n",
    "\n",
    "    import tensorflow_nufft as tfft\n",
    "    import tensorflow as tf\n",
    "    \n",
    "    #reshape the raw data\n",
    "    dataCS_perm = tf.transpose(dataCS_3124, perm=[3,0,1,2])\n",
    "    dataCS_perm =  tf.reshape(dataCS_perm , [nCoils, -1])\n",
    "    print('dataCS_perm',tf.shape(dataCS_perm))\n",
    "\n",
    "    #reshape the trajectory data\n",
    "    trajSc= tf.transpose(trajScale, perm=[1,2,0])\n",
    "    trajSc =  tf.reshape(trajSc , [-1 , 3])\n",
    "    trajSc = tf.expand_dims(trajSc,axis=0)\n",
    "    trajSc = tf.repeat(trajSc, repeats = 26, axis = 0)\n",
    "    trajSc = (trajSc / 192) *2*np.pi\n",
    "    print('trajSc',tf.shape(trajSc), 'max traj', np.max(trajSc), 'min traj', np.min(trajSc))\n",
    "\n",
    "    average_gridded_data = tfft.nufft(dataCS_perm , trajSc, transform_type='type_1', fft_direction='backward', grid_shape=(40,192,192))\n",
    "\n",
    "    # average_gridded_data = bart(1,\"nufft -i -d\"+str(matrix)+\":\"+str(matrix)+\":1\", trajScale, dataCS_3124) #The bart nufft\n",
    "\n",
    "    print(\"average_gridded_data = \", average_gridded_data.shape)\n",
    "    \" size (192x192x1x26)\"\n",
    "\n",
    "    \" this part is fine \"\n",
    "    fig, ax = plt.subplots(nrows=1,ncols=4, figsize=(10,10))\n",
    "    for cl in range(4) :\n",
    "        ax[cl].imshow(abs(average_gridded_data[:,:,0, cl]))\n",
    "    \"  \"\n",
    "    del dataCS_3124\n",
    "\n",
    "    ksp = bart(1, \"fft -u 7\", average_gridded_data)\n",
    "    del average_gridded_data\n",
    "\n",
    "    coil_sensitivities = bart(1, \"caldir 20\", ksp)\n",
    "    \" coil_sensivitoes = np.squeeze(coil_sensitivities) \"\n",
    "    del ksp\n",
    "    \" plot coil sensitivities\"\n",
    "    print(\"sl = \", sl, \" , cS size = \", coil_sensitivities.shape)\n",
    "    fig, ax = plt.subplots(nrows=1, ncols=5,figsize=(10,10))\n",
    "    for cl in range(5) :\n",
    "        ax[cl].imshow(abs(coil_sensitivities[:,:,0,cl]))\n",
    "    \" \"\n",
    "    \n",
    "    \" ---------------------------------------------- \"\n",
    "    \"now grid the data\"\n",
    "\n",
    "    \" slice data is currently [matrix*2, accSpokes, nCoils, nPhases] \"\n",
    "    for ph in range(2) :\n",
    "        \"nPhases) :\"\n",
    "\n",
    "        dataAll = np.zeros((matrix*2, accSpokes, 1, nCoils),dtype=complex)\n",
    "        trajAll = np.zeros((dimensions, matrix*2, accSpokes))\n",
    "\n",
    "        dataAll[:,:,0,:] = np.squeeze(sliceData[:,:,ph,:])\n",
    "        trajAll[:,:,:] = trajectory[:,:,:, ph]\n",
    "\n",
    "        dataAll_3124 = np.transpose(dataAll, [2, 0, 1, 3]) \n",
    "        del dataAll\n",
    "\n",
    "        \"grid the data\"\n",
    "        \"David: you need to chnage the following line to your gridder!!!!\"\n",
    "        gridded_data = bart (1,\"nufft -i -d\"+str(matrix)+\":\"+str(matrix)+\":1\", trajAll, dataAll_3124)\n",
    "        print(\"gridded_data = \", gridded_data.shape)\n",
    "        \" size (192x192x1x26)\"\n",
    "        del dataAll_3124\n",
    "        del trajAll\n",
    "\n",
    "        gridded_data2=np.squeeze(np.transpose(gridded_data, [0, 1, 3, 2]))\n",
    "\n",
    "        print(\"ph = \", ph  )\n",
    "        fig, ax = plt.subplots(nrows=2, figsize=(6,10))\n",
    "        ax[0].imshow(np.squeeze(abs(gridded_data2[:,:,20])), vmin=0, vmax =0.0001)\n",
    "\n",
    "        \"\"\"   \n",
    "        print(\"gridded_data2 = \", gridded_data2.shape)\n",
    "        print(\"coil_sensitivities = \", coil_sensitivities.shape)\n",
    "        weightedData = abs(np.multiply(gridded_data2, np.conjugate(np.squeeze(coil_sensitivities))))\n",
    "        print(\"weigghtedData = \", weightedData.shape)\n",
    "     \n",
    "        tempData = np.sum(weightedData, axis=2) \n",
    "        print(\"tempData = \", tempData.shape)\n",
    "      \n",
    "        GRIDresult[:,:,ph,sl] = abs(tempData)\n",
    "        \"\"\"  \n",
    "    del ph  \n",
    "    \"\"\"\n",
    "    print(\"sl = \", sl  )\n",
    "    fig, ax = plt.subplots(nrows=5, figsize=(6,10))\n",
    "    for ph in range(5) :\n",
    "        ax[ph].imshow(np.squeeze(abs(GRIDresult[:,:,ph,sl])), vmin=0, vmax =0.001)\n",
    "    \" ---------------------------------------------- \"\n",
    "    \"\"\"\n",
    "    del coil_sensitivities\n",
    "    \n",
    "del dimensions\n",
    "del radialAngles"
   ],
   "outputs": [
    {
     "output_type": "stream",
     "name": "stdout",
     "text": [
      "sliceData  (384, 13, 40, 26)\n",
      "trajScale (3, 384, 520) dataCS_3124 (1, 384, 520, 26)\n",
      "dataCS_perm tf.Tensor([    26 199680], shape=(2,), dtype=int32)\n",
      "trajSc tf.Tensor([    26 199680      3], shape=(3,), dtype=int32) max traj 3.1415552722034468 min traj -3.141592653589793\n"
     ]
    },
    {
     "output_type": "stream",
     "name": "stderr",
     "text": [
      "2021-09-13 17:39:37.666407: W tensorflow/core/framework/cpu_allocator_impl.cc:80] Allocation of 613416960 exceeds 10% of free system memory.\n"
     ]
    },
    {
     "output_type": "stream",
     "name": "stdout",
     "text": [
      "average_gridded_data =  (26, 40, 192, 192)\n"
     ]
    },
    {
     "output_type": "error",
     "ename": "AttributeError",
     "evalue": "\n        'EagerTensor' object has no attribute 'T'.\n        If you are looking for numpy-related methods, please run the following:\n        import tensorflow.python.ops.numpy_ops.np_config\n        np_config.enable_numpy_behavior()",
     "traceback": [
      "\u001b[0;31m---------------------------------------------------------------------------\u001b[0m",
      "\u001b[0;31mAttributeError\u001b[0m                            Traceback (most recent call last)",
      "\u001b[0;32m/tmp/ipykernel_3163/415491982.py\u001b[0m in \u001b[0;36m<module>\u001b[0;34m\u001b[0m\n\u001b[1;32m     53\u001b[0m     \u001b[0;32mdel\u001b[0m \u001b[0mdataCS_3124\u001b[0m\u001b[0;34m\u001b[0m\u001b[0;34m\u001b[0m\u001b[0m\n\u001b[1;32m     54\u001b[0m \u001b[0;34m\u001b[0m\u001b[0m\n\u001b[0;32m---> 55\u001b[0;31m     \u001b[0mksp\u001b[0m \u001b[0;34m=\u001b[0m \u001b[0mbart\u001b[0m\u001b[0;34m(\u001b[0m\u001b[0;36m1\u001b[0m\u001b[0;34m,\u001b[0m \u001b[0;34m\"fft -u 7\"\u001b[0m\u001b[0;34m,\u001b[0m \u001b[0maverage_gridded_data\u001b[0m\u001b[0;34m)\u001b[0m\u001b[0;34m\u001b[0m\u001b[0;34m\u001b[0m\u001b[0m\n\u001b[0m\u001b[1;32m     56\u001b[0m     \u001b[0;32mdel\u001b[0m \u001b[0maverage_gridded_data\u001b[0m\u001b[0;34m\u001b[0m\u001b[0;34m\u001b[0m\u001b[0m\n\u001b[1;32m     57\u001b[0m \u001b[0;34m\u001b[0m\u001b[0m\n",
      "\u001b[0;32m/media/sf_ML_work/BART/bart-0.7.00/python/bart.py\u001b[0m in \u001b[0;36mbart\u001b[0;34m(nargout, cmd, *args)\u001b[0m\n\u001b[1;32m     45\u001b[0m \u001b[0;34m\u001b[0m\u001b[0m\n\u001b[1;32m     46\u001b[0m     \u001b[0;32mfor\u001b[0m \u001b[0midx\u001b[0m \u001b[0;32min\u001b[0m \u001b[0mrange\u001b[0m\u001b[0;34m(\u001b[0m\u001b[0mnargin\u001b[0m\u001b[0;34m)\u001b[0m\u001b[0;34m:\u001b[0m\u001b[0;34m\u001b[0m\u001b[0;34m\u001b[0m\u001b[0m\n\u001b[0;32m---> 47\u001b[0;31m         \u001b[0mcfl\u001b[0m\u001b[0;34m.\u001b[0m\u001b[0mwritecfl\u001b[0m\u001b[0;34m(\u001b[0m\u001b[0minfiles\u001b[0m\u001b[0;34m[\u001b[0m\u001b[0midx\u001b[0m\u001b[0;34m]\u001b[0m\u001b[0;34m,\u001b[0m \u001b[0margs\u001b[0m\u001b[0;34m[\u001b[0m\u001b[0midx\u001b[0m\u001b[0;34m]\u001b[0m\u001b[0;34m)\u001b[0m\u001b[0;34m\u001b[0m\u001b[0;34m\u001b[0m\u001b[0m\n\u001b[0m\u001b[1;32m     48\u001b[0m \u001b[0;34m\u001b[0m\u001b[0m\n\u001b[1;32m     49\u001b[0m     \u001b[0moutfiles\u001b[0m \u001b[0;34m=\u001b[0m \u001b[0;34m[\u001b[0m\u001b[0mname\u001b[0m \u001b[0;34m+\u001b[0m \u001b[0;34m'out'\u001b[0m \u001b[0;34m+\u001b[0m \u001b[0mstr\u001b[0m\u001b[0;34m(\u001b[0m\u001b[0midx\u001b[0m\u001b[0;34m)\u001b[0m \u001b[0;32mfor\u001b[0m \u001b[0midx\u001b[0m \u001b[0;32min\u001b[0m \u001b[0mrange\u001b[0m\u001b[0;34m(\u001b[0m\u001b[0mnargout\u001b[0m\u001b[0;34m)\u001b[0m\u001b[0;34m]\u001b[0m\u001b[0;34m\u001b[0m\u001b[0;34m\u001b[0m\u001b[0m\n",
      "\u001b[0;32m/media/sf_ML_work/BART/bart-0.7.00/python/cfl.py\u001b[0m in \u001b[0;36mwritecfl\u001b[0;34m(name, array)\u001b[0m\n\u001b[1;32m     38\u001b[0m     \u001b[0mh\u001b[0m\u001b[0;34m.\u001b[0m\u001b[0mclose\u001b[0m\u001b[0;34m(\u001b[0m\u001b[0;34m)\u001b[0m\u001b[0;34m\u001b[0m\u001b[0;34m\u001b[0m\u001b[0m\n\u001b[1;32m     39\u001b[0m     \u001b[0md\u001b[0m \u001b[0;34m=\u001b[0m \u001b[0mopen\u001b[0m\u001b[0;34m(\u001b[0m\u001b[0mname\u001b[0m \u001b[0;34m+\u001b[0m \u001b[0;34m\".cfl\"\u001b[0m\u001b[0;34m,\u001b[0m \u001b[0;34m\"w\"\u001b[0m\u001b[0;34m)\u001b[0m\u001b[0;34m\u001b[0m\u001b[0;34m\u001b[0m\u001b[0m\n\u001b[0;32m---> 40\u001b[0;31m     \u001b[0marray\u001b[0m\u001b[0;34m.\u001b[0m\u001b[0mT\u001b[0m\u001b[0;34m.\u001b[0m\u001b[0mastype\u001b[0m\u001b[0;34m(\u001b[0m\u001b[0mnp\u001b[0m\u001b[0;34m.\u001b[0m\u001b[0mcomplex64\u001b[0m\u001b[0;34m)\u001b[0m\u001b[0;34m.\u001b[0m\u001b[0mtofile\u001b[0m\u001b[0;34m(\u001b[0m\u001b[0md\u001b[0m\u001b[0;34m)\u001b[0m \u001b[0;31m# tranpose for column-major order\u001b[0m\u001b[0;34m\u001b[0m\u001b[0;34m\u001b[0m\u001b[0m\n\u001b[0m\u001b[1;32m     41\u001b[0m     \u001b[0md\u001b[0m\u001b[0;34m.\u001b[0m\u001b[0mclose\u001b[0m\u001b[0;34m(\u001b[0m\u001b[0;34m)\u001b[0m\u001b[0;34m\u001b[0m\u001b[0;34m\u001b[0m\u001b[0m\n",
      "\u001b[0;32m~/.local/lib/python3.8/site-packages/tensorflow/python/framework/ops.py\u001b[0m in \u001b[0;36m__getattr__\u001b[0;34m(self, name)\u001b[0m\n\u001b[1;32m    394\u001b[0m                 \"tolist\", \"data\"}:\n\u001b[1;32m    395\u001b[0m       \u001b[0;31m# TODO(wangpeng): Export the enable_numpy_behavior knob\u001b[0m\u001b[0;34m\u001b[0m\u001b[0;34m\u001b[0m\u001b[0;34m\u001b[0m\u001b[0m\n\u001b[0;32m--> 396\u001b[0;31m       raise AttributeError(\"\"\"\n\u001b[0m\u001b[1;32m    397\u001b[0m         \u001b[0;34m'{}'\u001b[0m \u001b[0mobject\u001b[0m \u001b[0mhas\u001b[0m \u001b[0mno\u001b[0m \u001b[0mattribute\u001b[0m \u001b[0;34m'{}'\u001b[0m\u001b[0;34m.\u001b[0m\u001b[0;34m\u001b[0m\u001b[0;34m\u001b[0m\u001b[0m\n\u001b[1;32m    398\u001b[0m         \u001b[0mIf\u001b[0m \u001b[0myou\u001b[0m \u001b[0mare\u001b[0m \u001b[0mlooking\u001b[0m \u001b[0;32mfor\u001b[0m \u001b[0mnumpy\u001b[0m\u001b[0;34m-\u001b[0m\u001b[0mrelated\u001b[0m \u001b[0mmethods\u001b[0m\u001b[0;34m,\u001b[0m \u001b[0mplease\u001b[0m \u001b[0mrun\u001b[0m \u001b[0mthe\u001b[0m \u001b[0mfollowing\u001b[0m\u001b[0;34m:\u001b[0m\u001b[0;34m\u001b[0m\u001b[0;34m\u001b[0m\u001b[0m\n",
      "\u001b[0;31mAttributeError\u001b[0m: \n        'EagerTensor' object has no attribute 'T'.\n        If you are looking for numpy-related methods, please run the following:\n        import tensorflow.python.ops.numpy_ops.np_config\n        np_config.enable_numpy_behavior()"
     ]
    },
    {
     "output_type": "display_data",
     "data": {
      "image/png": "[encoded data removed]",
      "text/plain": [
       "<Figure size 720x720 with 4 Axes>"
      ]
     },
     "metadata": {
      "needs_background": "light"
     }
    }
   ],
   "metadata": {}
  },
  {
   "cell_type": "code",
   "execution_count": null,
   "source": [],
   "outputs": [],
   "metadata": {}
  }
 ],
 "metadata": {
  "kernelspec": {
   "name": "python3",
   "display_name": "Python 3.8.10 64-bit"
  },
  "language_info": {
   "codemirror_mode": {
    "name": "ipython",
    "version": 3
   },
   "file_extension": ".py",
   "mimetype": "text/x-python",
   "name": "python",
   "nbconvert_exporter": "python",
   "pygments_lexer": "ipython3",
   "version": "3.8.10"
  },
  "interpreter": {
   "hash": "916dbcbb3f70747c44a77c7bcd40155683ae19c65e1c03b4aa3499c5328201f1"
  }
 },
 "nbformat": 4,
 "nbformat_minor": 5
}